{
 "cells": [
  {
   "cell_type": "code",
   "execution_count": 1,
   "metadata": {},
   "outputs": [],
   "source": [
    "import torch\n",
    "from torch import cdist\n",
    "from torch.nn.functional import pdist\n",
    "from tqdm.auto import tqdm\n",
    "import numpy as np\n",
    "from ase import Atoms\n",
    "from ase.io import read, write\n",
    "from ase.build import make_supercell\n",
    "from ase.build.tools import sort as ase_sort\n",
    "from ase.visualize import view\n",
    "import warnings\n",
    "from mendeleev import element\n",
    "from mendeleev.fetch import fetch_table"
   ]
  },
  {
   "cell_type": "code",
   "execution_count": 2,
   "metadata": {},
   "outputs": [],
   "source": [
    "def get_default_atoms(\n",
    "            atom_type: str, \n",
    "            output_type: str ='number'\n",
    "            ):\n",
    "            \"\"\"\n",
    "            Get the default atoms based on the atom type and output type.\n",
    "\n",
    "            Parameters:\n",
    "            - atom_type (str): The type of atoms to retrieve. Accepts either \"metal\" or \"ligand\".\n",
    "            - output_type (str): The type of output to retrieve. Accepts either \"number\" or \"symbol\". Defaults to \"number\".\n",
    "\n",
    "            Returns:\n",
    "            - atoms (list): The list of default atoms based on the atom type and output type.\n",
    "\n",
    "            Raises:\n",
    "            - ValueError: If the atom_type is not \"metal\" or \"ligand\".\n",
    "            - ValueError: If the output_type is not \"number\" or \"symbol\".\n",
    "            \"\"\"\n",
    "            if atom_type == 'metal':\n",
    "                if output_type == 'number':\n",
    "                    atoms = [\n",
    "                        3, 4, 5, 11, 12, 13, 14, 19, 20, 21, 22, 23, 24, \n",
    "                        25, 26, 27, 28, 29, 30, 31, 32, 33, 37, 38, 39, \n",
    "                        40, 41, 42, 43, 44, 45, 46, 47, 48, 49, 50, 51, \n",
    "                        52, 55, 56, 57, 58, 59, 60, 61, 62, 63, 64, 65, \n",
    "                        66, 67, 68, 69, 70, 71, 72, 73, 74, 75, 76, 77, \n",
    "                        78, 79, 80, 81, 82, 83, 88\n",
    "                    ]\n",
    "                elif output_type == 'symbol':\n",
    "                    atoms = [\n",
    "                        'Li', 'Be', 'B', 'Na', 'Mg', 'Al', 'Si', 'K', \n",
    "                        'Ca', 'Sc', 'Ti', 'V', 'Cr', 'Mn', 'Fe', 'Co', \n",
    "                        'Ni', 'Cu', 'Zn', 'Ga', 'Ge', 'As', 'Rb', 'Sr', \n",
    "                        'Y', 'Zr', 'Nb', 'Mo', 'Tc', 'Ru', 'Rh', 'Pd', \n",
    "                        'Ag', 'Cd', 'In', 'Sn', 'Sb', 'Te', 'Cs', 'Ba', \n",
    "                        'La', 'Ce', 'Pr', 'Nd', 'Pm', 'Sm', 'Eu', 'Gd', \n",
    "                        'Tb', 'Dy', 'Ho', 'Er', 'Tm', 'Yb', 'Lu', 'Hf', \n",
    "                        'Ta', 'W', 'Re', 'Os', 'Ir', 'Pt', 'Au', 'Hg', \n",
    "                        'Tl', 'Pb', 'Bi', 'Ra'\n",
    "                    ]\n",
    "                else:\n",
    "                    raise ValueError('FAILED: Invalid output_type, accepts only \"number\" or \"symbol\"')\n",
    "            elif atom_type == 'ligand':\n",
    "                if output_type == 'number':\n",
    "                    atoms = [\n",
    "                        1, 6, 7, 8, 9, 15, 16, 17, 34, 35, 53\n",
    "                    ]\n",
    "                elif output_type == 'symbol':\n",
    "                    atoms = [\n",
    "                        'H', 'C', 'N', 'O', 'F', 'P', 'S', 'Cl', 'Se', 'Br', 'I'\n",
    "                    ]\n",
    "                else:\n",
    "                    raise ValueError('FAILED: Invalid output_type, accepts only \"number\" or \"symbol\"')\n",
    "            else:\n",
    "                raise ValueError('FAILED: Invalid atom_type, accepts only \"metal\" or \"ligand\"')\n",
    "            return atoms"
   ]
  },
  {
   "cell_type": "code",
   "execution_count": 16,
   "metadata": {},
   "outputs": [],
   "source": [
    "#structure_path = '../InOrgMatDataset/Dataset/CIFs/SimulatedTest/AntiFluorite_Fe2O.cif'\n",
    "structure_path = '../InOrgMatDataset/Dataset/CIFs/COD_subset_cleaned/1008022.cif'\n",
    "radii = [5, 10, 15]#, 20, 25]\n",
    "metals = 'Default'\n",
    "ligands = 'Default'\n",
    "device = 'cuda'\n",
    "_lightweight_mode = False\n",
    "sort_atoms = False\n",
    "disable_pbar = False\n",
    "\n",
    "# Fetch node features and replace NaNs with 0.0\n",
    "atomic_size_table = fetch_table('elements')[['atomic_number', 'atomic_radius']]\n",
    "atomic_size_table['atomic_radius'] = atomic_size_table['atomic_radius'] / 100 # Convert pm to Å"
   ]
  },
  {
   "cell_type": "code",
   "execution_count": 17,
   "metadata": {},
   "outputs": [
    {
     "name": "stdout",
     "output_type": "stream",
     "text": [
      "[0 0 0]\n",
      "[False False False]\n",
      "[2 2 2]\n"
     ]
    },
    {
     "data": {
      "application/vnd.jupyter.widget-view+json": {
       "model_id": "cf722262222e483fa36d43e260ebccd5",
       "version_major": 2,
       "version_minor": 0
      },
      "text/plain": [
       "Generating nanoparticles in range: [5,15]:   0%|          | 0/3 [00:00<?, ?it/s]"
      ]
     },
     "metadata": {},
     "output_type": "display_data"
    }
   ],
   "source": [
    "# Handle metals and ligands\n",
    "if metals == 'Default':\n",
    "    metals = get_default_atoms('metal', output_type='number')\n",
    "elif isinstance(metals, list):\n",
    "    if isinstance(metals[0], str):\n",
    "        try:\n",
    "            from mendeleev import element\n",
    "            metals = [element(elm).atomic_number for elm in metals]\n",
    "        except ImportError:\n",
    "            raise ImportError('FAILED: Please install mendeleev to use element symbols')\n",
    "else:\n",
    "    raise ValueError('FAILED: Please provide valid metals for generation of nanoparticles')\n",
    "\n",
    "if ligands == 'Default':\n",
    "    ligands = get_default_atoms('ligand', output_type='number')\n",
    "elif isinstance(ligands, list):\n",
    "    if isinstance(ligands[0], str):\n",
    "        try:\n",
    "            from mendeleev import element\n",
    "            ligands = [element(elm).atomic_number for elm in ligands]\n",
    "        except ImportError:\n",
    "            raise ImportError('FAILED: Please install mendeleev to use element symbols')\n",
    "\n",
    "# Read the input unit cell structure\n",
    "with warnings.catch_warnings():\n",
    "    warnings.simplefilter(\"ignore\")\n",
    "    unit_cell = read(structure_path)\n",
    "cell_dims = np.array(unit_cell.cell.cellpar()[:3])\n",
    "r_max = np.amax(radii)\n",
    "\n",
    "# Create a supercell to encompass the entire range of nanoparticles and center it\n",
    "size_check = np.array([False, False, False])\n",
    "padding = np.array([0,0,0])\n",
    "print(padding)\n",
    "while not all(size_check):\n",
    "    print(size_check)\n",
    "    padding[~size_check] += 2 # Symmetric padding to ensure the particle does not exceed the supercell boundary\n",
    "    print(padding)\n",
    "    supercell_matrix = np.diag((np.ceil(r_max / cell_dims)) * 2 + padding)\n",
    "    cell = make_supercell(prim=unit_cell, P=supercell_matrix)\n",
    "    size_check = cell.get_positions().max(axis=0) >= (r_max * 2 + 5) # Check if the supercell is larger than diameter of largest particle + 5 Angstroms of padding\n",
    "            \n",
    "cell.center(about=0.)\n",
    "\n",
    "atomic_numbers = cell.get_atomic_numbers()\n",
    "\n",
    "# Find atomic radii\n",
    "atomic_radii = torch.tensor(np.array([\n",
    "    atomic_size_table.loc[atom-1].values\n",
    "    for atom in atomic_numbers\n",
    "    ], dtype='float'), device=device)\n",
    "\n",
    "# Convert positions to torch and send to device\n",
    "positions = torch.from_numpy(cell.get_positions()).to(dtype = torch.float32, device = device)\n",
    "\n",
    "if _lightweight_mode:\n",
    "    center_dists = torch.norm(positions, dim=1)\n",
    "else:\n",
    "    # Find all metals and center around the nearest metal\n",
    "    metal_filter = torch.BoolTensor([a in metals for a in atomic_numbers]).to(device = device)\n",
    "    ligand_filter = torch.BoolTensor([a in ligands for a in atomic_numbers]).to(device = device)\n",
    "    center_dists = torch.norm(positions, dim=1)\n",
    "    positions -= positions[metal_filter][torch.argmin(center_dists[metal_filter])]\n",
    "    center_dists = torch.norm(positions, dim=1)\n",
    "    ## Update the cell positions\n",
    "    cell.positions = positions.cpu()\n",
    "\n",
    "# Calculate distance matrix\n",
    "cell_dists = cdist(positions, positions)\n",
    "\n",
    "# Create mask of threshold for bonds\n",
    "bond_threshold = torch.zeros_like(cell_dists, device=device)\n",
    "for i, r1 in enumerate(atomic_radii[:,1]):\n",
    "    bond_threshold[i,:] = (r1 + atomic_radii[:,1]) * 1.25\n",
    "bond_threshold.fill_diagonal_(0.)\n",
    "\n",
    "# Find edges\n",
    "direction = torch.argwhere(cell_dists < bond_threshold).T\n",
    "\n",
    "# Handle case with no edges\n",
    "if len(direction[0]) == 0:\n",
    "    min_dist = torch.amin(cell_dists[cell_dists > 0])\n",
    "    direction = torch.argwhere(cell_dists < min_dist * 1.1).T\n",
    "\n",
    "# Initialize nanoparticle lists and progress bar\n",
    "nanoparticle_list = []\n",
    "nanoparticle_sizes = []\n",
    "pbar = tqdm(desc=f'Generating nanoparticles in range: [{np.amin(radii)},{np.amax(radii)}]', leave=False, total=len(radii), disable=disable_pbar)\n",
    "\n",
    "# Generate nanoparticles for each radius\n",
    "for r in sorted(radii, reverse=True):\n",
    "    if _lightweight_mode:\n",
    "        # Mask all atoms within radius\n",
    "        incl_mask = (center_dists <= r) \n",
    "        \n",
    "        # Modify objects based on mask\n",
    "        cell = cell[incl_mask.cpu()]\n",
    "        center_dists = center_dists[incl_mask]\n",
    "        \n",
    "    else:      \n",
    "        # Mask all metal atoms within radius\n",
    "        excl_mask = (center_dists > r) & metal_filter\n",
    "        incl_mask = (center_dists <= r) & metal_filter\n",
    "\n",
    "        excl_indices = torch.nonzero(excl_mask).flatten()\n",
    "        incl_indices = torch.nonzero(incl_mask).flatten()\n",
    "\n",
    "        included_edges = direction[:,(torch.isin(direction[0], incl_indices) + torch.isin(direction[1], incl_indices))]\n",
    "\n",
    "        included_edges = included_edges[:,~(torch.isin(included_edges[0], excl_indices) + torch.isin(included_edges[1], excl_indices))]\n",
    "        \n",
    "        included_atoms = included_edges.unique()\n",
    "\n",
    "        np_dists = center_dists[included_atoms]\n",
    "\n",
    "        np_cell = cell[included_atoms.cpu()]\n",
    "\n",
    "    \n",
    "    # Determine NP size\n",
    "    nanoparticle_size = torch.amax(np_dists) * 2\n",
    "\n",
    "    # Sort the atoms\n",
    "    if sort_atoms:\n",
    "        sorted_cell = ase_sort(np_cell)\n",
    "        if sorted_cell.get_atomic_numbers()[0] in ligands:\n",
    "            sorted_cell = sorted_cell[::-1]\n",
    "\n",
    "        # Append nanoparticle\n",
    "        nanoparticle_list.append(sorted_cell)\n",
    "    else:\n",
    "        # Append nanoparticle\n",
    "        nanoparticle_list.append(np_cell)\n",
    "\n",
    "    # Append size\n",
    "    nanoparticle_sizes.append(nanoparticle_size.item())\n",
    "\n",
    "    pbar.update(1)\n",
    "pbar.close()"
   ]
  },
  {
   "cell_type": "code",
   "execution_count": 18,
   "metadata": {},
   "outputs": [
    {
     "name": "stdout",
     "output_type": "stream",
     "text": [
      "Radius: 10.0 Å,\tNP size: 27.82 Å,\tEstimated atoms: 94,\tActual atoms: 97,\tError: -3.44%\n",
      "Radius: 5.0 Å,\tNP size: 17.60 Å,\tEstimated atoms: 24,\tActual atoms: 27,\tError: -12.24%\n",
      "Radius: 0.0 Å,\tNP size: 0.00 Å,\tEstimated atoms: 0,\tActual atoms: 1,\tError: -100.00%\n"
     ]
    }
   ],
   "source": [
    "n_atoms_unit_cell = len(unit_cell)\n",
    "for i, np_size in enumerate(nanoparticle_sizes):\n",
    "    unit_vol = unit_cell.get_volume()\n",
    "    np_vol = 4/3 * np.pi * (np_size/2)**3\n",
    "    est_atoms = n_atoms_unit_cell * np_vol / unit_vol\n",
    "    n_np_atoms = len(nanoparticle_list[i])\n",
    "    n_atoms_error = (est_atoms - n_np_atoms) / n_np_atoms\n",
    "    # Print results\n",
    "    print(f'Radius: {(np_size//2)//5*5} Å,\\tNP size: {np_size:.2f} Å,\\tEstimated atoms: {est_atoms:.0f},\\tActual atoms: {n_np_atoms},\\tError: {n_atoms_error:.2%}')"
   ]
  },
  {
   "cell_type": "code",
   "execution_count": 21,
   "metadata": {},
   "outputs": [
    {
     "data": {
      "application/vnd.jupyter.widget-view+json": {
       "model_id": "e3b3b739d2af4f6880316adfcb11d9d6",
       "version_major": 2,
       "version_minor": 0
      },
      "text/plain": [
       "HBox(children=(NGLWidget(), VBox(children=(Dropdown(description='Show', options=('All', 'Mo'), value='All'), D…"
      ]
     },
     "execution_count": 21,
     "metadata": {},
     "output_type": "execute_result"
    }
   ],
   "source": [
    "view(nanoparticle_list[1], viewer='ngl')"
   ]
  },
  {
   "cell_type": "code",
   "execution_count": 15,
   "metadata": {},
   "outputs": [],
   "source": [
    "#write('test_np.xyz', nanoparticle_list[0])"
   ]
  },
  {
   "cell_type": "code",
   "execution_count": null,
   "metadata": {},
   "outputs": [],
   "source": []
  }
 ],
 "metadata": {
  "kernelspec": {
   "display_name": "dataset_env",
   "language": "python",
   "name": "python3"
  },
  "language_info": {
   "codemirror_mode": {
    "name": "ipython",
    "version": 3
   },
   "file_extension": ".py",
   "mimetype": "text/x-python",
   "name": "python",
   "nbconvert_exporter": "python",
   "pygments_lexer": "ipython3",
   "version": "3.10.13"
  }
 },
 "nbformat": 4,
 "nbformat_minor": 2
}
