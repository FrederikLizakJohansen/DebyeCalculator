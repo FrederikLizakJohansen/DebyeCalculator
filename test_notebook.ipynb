{
 "cells": [
  {
   "cell_type": "code",
   "execution_count": 1,
   "metadata": {},
   "outputs": [],
   "source": [
    "import torch\n",
    "from torch import cdist\n",
    "from torch.nn.functional import pdist\n",
    "from tqdm.auto import tqdm\n",
    "import numpy as np\n",
    "from ase import Atoms\n",
    "from ase.io import read, write\n",
    "from ase.build import make_supercell\n",
    "from ase.build.tools import sort as ase_sort\n",
    "from ase.visualize import view\n",
    "import warnings\n",
    "from mendeleev import element\n",
    "from mendeleev.fetch import fetch_table"
   ]
  },
  {
   "cell_type": "code",
   "execution_count": 2,
   "metadata": {},
   "outputs": [],
   "source": [
    "def get_default_atoms(\n",
    "            atom_type: str, \n",
    "            output_type: str ='number'\n",
    "            ):\n",
    "            \"\"\"\n",
    "            Get the default atoms based on the atom type and output type.\n",
    "\n",
    "            Parameters:\n",
    "            - atom_type (str): The type of atoms to retrieve. Accepts either \"metal\" or \"ligand\".\n",
    "            - output_type (str): The type of output to retrieve. Accepts either \"number\" or \"symbol\". Defaults to \"number\".\n",
    "\n",
    "            Returns:\n",
    "            - atoms (list): The list of default atoms based on the atom type and output type.\n",
    "\n",
    "            Raises:\n",
    "            - ValueError: If the atom_type is not \"metal\" or \"ligand\".\n",
    "            - ValueError: If the output_type is not \"number\" or \"symbol\".\n",
    "            \"\"\"\n",
    "            if atom_type == 'metal':\n",
    "                if output_type == 'number':\n",
    "                    atoms = [\n",
    "                        3, 4, 5, 11, 12, 13, 14, 19, 20, 21, 22, 23, 24, \n",
    "                        25, 26, 27, 28, 29, 30, 31, 32, 33, 37, 38, 39, \n",
    "                        40, 41, 42, 43, 44, 45, 46, 47, 48, 49, 50, 51, \n",
    "                        52, 55, 56, 57, 58, 59, 60, 61, 62, 63, 64, 65, \n",
    "                        66, 67, 68, 69, 70, 71, 72, 73, 74, 75, 76, 77, \n",
    "                        78, 79, 80, 81, 82, 83, 88\n",
    "                    ]\n",
    "                elif output_type == 'symbol':\n",
    "                    atoms = [\n",
    "                        'Li', 'Be', 'B', 'Na', 'Mg', 'Al', 'Si', 'K', \n",
    "                        'Ca', 'Sc', 'Ti', 'V', 'Cr', 'Mn', 'Fe', 'Co', \n",
    "                        'Ni', 'Cu', 'Zn', 'Ga', 'Ge', 'As', 'Rb', 'Sr', \n",
    "                        'Y', 'Zr', 'Nb', 'Mo', 'Tc', 'Ru', 'Rh', 'Pd', \n",
    "                        'Ag', 'Cd', 'In', 'Sn', 'Sb', 'Te', 'Cs', 'Ba', \n",
    "                        'La', 'Ce', 'Pr', 'Nd', 'Pm', 'Sm', 'Eu', 'Gd', \n",
    "                        'Tb', 'Dy', 'Ho', 'Er', 'Tm', 'Yb', 'Lu', 'Hf', \n",
    "                        'Ta', 'W', 'Re', 'Os', 'Ir', 'Pt', 'Au', 'Hg', \n",
    "                        'Tl', 'Pb', 'Bi', 'Ra'\n",
    "                    ]\n",
    "                else:\n",
    "                    raise ValueError('FAILED: Invalid output_type, accepts only \"number\" or \"symbol\"')\n",
    "            elif atom_type == 'ligand':\n",
    "                if output_type == 'number':\n",
    "                    atoms = [\n",
    "                        1, 6, 7, 8, 9, 15, 16, 17, 34, 35, 53\n",
    "                    ]\n",
    "                elif output_type == 'symbol':\n",
    "                    atoms = [\n",
    "                        'H', 'C', 'N', 'O', 'F', 'P', 'S', 'Cl', 'Se', 'Br', 'I'\n",
    "                    ]\n",
    "                else:\n",
    "                    raise ValueError('FAILED: Invalid output_type, accepts only \"number\" or \"symbol\"')\n",
    "            else:\n",
    "                raise ValueError('FAILED: Invalid atom_type, accepts only \"metal\" or \"ligand\"')\n",
    "            return atoms"
   ]
  },
  {
   "cell_type": "code",
   "execution_count": 3,
   "metadata": {},
   "outputs": [],
   "source": [
    "structure_path = '../InOrgMatDataset/Dataset/CIFs/SimulatedTest2/Fluorite_ZnO2.cif'\n",
    "radii = [5, 10, 15]#, 20, 25]\n",
    "metals = 'Default'\n",
    "ligands = 'Default'\n",
    "device = 'cuda'\n",
    "_lightweight_mode = False\n",
    "sort_atoms = False\n",
    "disable_pbar = False\n",
    "\n",
    "# Fetch node features and replace NaNs with 0.0\n",
    "atomic_size_table = fetch_table('elements')[['atomic_number', 'atomic_radius']]\n",
    "atomic_size_table['atomic_radius'] = atomic_size_table['atomic_radius'] / 100 # Convert pm to Å"
   ]
  },
  {
   "cell_type": "code",
   "execution_count": 13,
   "metadata": {},
   "outputs": [
    {
     "name": "stdout",
     "output_type": "stream",
     "text": [
      "[0 0 0]\n",
      "[False False False]\n",
      "[2 2 2]\n"
     ]
    },
    {
     "data": {
      "application/vnd.jupyter.widget-view+json": {
       "model_id": "25450c1104394e7f8048dfd85c1c4dd8",
       "version_major": 2,
       "version_minor": 0
      },
      "text/plain": [
       "Generating nanoparticles in range: [5,15]:   0%|          | 0/3 [00:00<?, ?it/s]"
      ]
     },
     "metadata": {},
     "output_type": "display_data"
    }
   ],
   "source": [
    "# Handle metals and ligands\n",
    "if metals == 'Default':\n",
    "    metals = get_default_atoms('metal', output_type='number')\n",
    "elif isinstance(metals, list):\n",
    "    if isinstance(metals[0], str):\n",
    "        try:\n",
    "            from mendeleev import element\n",
    "            metals = [element(elm).atomic_number for elm in metals]\n",
    "        except ImportError:\n",
    "            raise ImportError('FAILED: Please install mendeleev to use element symbols')\n",
    "else:\n",
    "    raise ValueError('FAILED: Please provide valid metals for generation of nanoparticles')\n",
    "\n",
    "if ligands == 'Default':\n",
    "    ligands = get_default_atoms('ligand', output_type='number')\n",
    "elif isinstance(ligands, list):\n",
    "    if isinstance(ligands[0], str):\n",
    "        try:\n",
    "            from mendeleev import element\n",
    "            ligands = [element(elm).atomic_number for elm in ligands]\n",
    "        except ImportError:\n",
    "            raise ImportError('FAILED: Please install mendeleev to use element symbols')\n",
    "\n",
    "# Read the input unit cell structure\n",
    "with warnings.catch_warnings():\n",
    "    warnings.simplefilter(\"ignore\")\n",
    "    unit_cell = read(structure_path)\n",
    "cell_dims = np.array(unit_cell.cell.cellpar()[:3])\n",
    "r_max = np.amax(radii)\n",
    "\n",
    "# Create a supercell to encompass the entire range of nanoparticles and center it\n",
    "size_check = np.array([False, False, False])\n",
    "padding = np.array([0,0,0])\n",
    "print(padding)\n",
    "while not all(size_check):\n",
    "    print(size_check)\n",
    "    padding[~size_check] += 2 # Symmetric padding to ensure the particle does not exceed the supercell boundary\n",
    "    print(padding)\n",
    "    supercell_matrix = np.diag((np.ceil(r_max / cell_dims)) * 2 + padding)\n",
    "    cell = make_supercell(prim=unit_cell, P=supercell_matrix)\n",
    "    size_check = cell.get_positions().max(axis=0) >= (r_max * 2 + 5) # Check if the supercell is larger than diameter of largest particle + 5 Angstroms of padding\n",
    "            \n",
    "cell.center(about=0.)\n",
    "\n",
    "# Find atomic radii\n",
    "atomic_radii = torch.tensor(np.array([\n",
    "    atomic_size_table.loc[atom-1].values\n",
    "    for atom in cell.get_atomic_numbers()\n",
    "    ], dtype='float'), device=device)\n",
    "\n",
    "# Convert positions to torch and send to device\n",
    "positions = torch.from_numpy(cell.get_positions()).to(dtype = torch.float32, device = device)\n",
    "\n",
    "if _lightweight_mode:\n",
    "    center_dists = torch.norm(positions, dim=1)\n",
    "else:\n",
    "    # Find all metals and center around the nearest metal\n",
    "    metal_filter = torch.BoolTensor([a not in ligands for a in cell.get_atomic_numbers()]).to(device = device)\n",
    "    center_dists = torch.norm(positions, dim=1)\n",
    "    positions -= positions[metal_filter][torch.argmin(center_dists[metal_filter])]\n",
    "    center_dists = torch.norm(positions, dim=1)\n",
    "    min_metal_dist = torch.min(pdist(positions[metal_filter]))\n",
    "    min_bond_dist = torch.amin(cdist(positions[metal_filter], positions[~metal_filter]))\n",
    "    # Update the cell positions\n",
    "    cell.positions = positions.cpu()\n",
    "\n",
    "# Calculate distance matrix\n",
    "cell_dists = cdist(positions, positions)\n",
    "\n",
    "# Create mask of threshold for bonds\n",
    "bond_threshold = torch.zeros_like(cell_dists, device=device)\n",
    "for i, r1 in enumerate(atomic_radii[:,1]):\n",
    "    bond_threshold[i,:] = (r1 + atomic_radii[:,1]) * 1.25\n",
    "bond_threshold.fill_diagonal_(0.)\n",
    "\n",
    "# Find edges\n",
    "direction = torch.argwhere(cell_dists < bond_threshold).T\n",
    "\n",
    "# Handle case with no edges\n",
    "if len(direction[0]) == 0:\n",
    "    min_dist = torch.amin(cell_dists[cell_dists > 0])\n",
    "    direction = torch.argwhere(cell_dists < min_dist * 1.1).T\n",
    "\n",
    "# Initialize nanoparticle lists and progress bar\n",
    "nanoparticle_list = []\n",
    "nanoparticle_sizes = []\n",
    "pbar = tqdm(desc=f'Generating nanoparticles in range: [{np.amin(radii)},{np.amax(radii)}]', leave=False, total=len(radii), disable=disable_pbar)\n",
    "\n",
    "# Generate nanoparticles for each radius\n",
    "for r in sorted(radii, reverse=True):\n",
    "    if _lightweight_mode:\n",
    "        # Mask all atoms within radius\n",
    "        incl_mask = (center_dists <= r)\n",
    "        \n",
    "        # Modify objects based on mask\n",
    "        cell = cell[incl_mask.cpu()]\n",
    "        center_dists = center_dists[incl_mask]\n",
    "        \n",
    "    else:\n",
    "        # NOTE: New method for finding nanoparticles\n",
    "        # NOTE: Mask all metal atoms within radius\n",
    "        # NOTE: Remove all edges that does not have at least one metal atom\n",
    "        # NOTE: Remove all ligand atoms that are not found in the remaining edges\n",
    "        # NOTE: Find the nanoparticle size based on the maximum distance between atoms\n",
    "        # NOTE: Save the nanoparticle and its size\n",
    "        \n",
    "        # Mask all atoms within radius\n",
    "        incl_mask = (center_dists <= r) | ((center_dists <= r + min_metal_dist) & ~metal_filter)\n",
    "\n",
    "        # Modify objects based on mask\n",
    "        cell = cell[incl_mask.cpu()]\n",
    "        center_dists = center_dists[incl_mask]\n",
    "        metal_filter = metal_filter[incl_mask]\n",
    "        positions = positions[incl_mask]\n",
    "        \n",
    "        # Find interdistances from all included atoms and remove 0's from diagonal\n",
    "        interface_dists = cdist(positions, positions).fill_diagonal_(min_metal_dist*2)\n",
    "\n",
    "        # Remove floating atoms\n",
    "        interaction_mask = torch.amin(interface_dists, dim=0) < min_bond_dist*1.1\n",
    "        \n",
    "        # Modify objects based on mask\n",
    "        cell = cell[interaction_mask.cpu()]\n",
    "        center_dists = center_dists[interaction_mask]\n",
    "        metal_filter = metal_filter[interaction_mask]\n",
    "        positions = positions[interaction_mask]\n",
    "    \n",
    "    # Determine NP size\n",
    "    nanoparticle_size = torch.amax(center_dists) * 2\n",
    "\n",
    "    # Sort the atoms\n",
    "    if sort_atoms:\n",
    "        sorted_cell = ase_sort(cell)\n",
    "        if sorted_cell.get_atomic_numbers()[0] in ligands:\n",
    "            sorted_cell = sorted_cell[::-1]\n",
    "\n",
    "        # Append nanoparticle\n",
    "        nanoparticle_list.append(sorted_cell)\n",
    "    else:\n",
    "        # Append nanoparticle\n",
    "        nanoparticle_list.append(cell)\n",
    "\n",
    "    # Append size\n",
    "    nanoparticle_sizes.append(nanoparticle_size.item())\n",
    "\n",
    "    pbar.update(1)\n",
    "pbar.close()"
   ]
  },
  {
   "cell_type": "code",
   "execution_count": 12,
   "metadata": {},
   "outputs": [
    {
     "data": {
      "text/plain": [
       "tensor([ 23,  24,  27,  29,  33,  34,  37,  39,  56,  57,  60,  62,  66,  67,\n",
       "         70,  72, 105, 107, 109, 110, 115, 117, 119, 120, 133, 134, 135, 136,\n",
       "        143, 144, 145, 146, 147, 148, 149, 150, 154, 155, 156, 157, 158, 159,\n",
       "        160, 161, 162, 167, 168, 173, 174, 179, 180, 181, 182, 187, 189, 190,\n",
       "        191, 192, 193, 194, 195, 196, 199, 200, 201, 202, 203, 204, 205, 206,\n",
       "        207, 208, 213, 214, 219, 220, 232, 234, 236, 239, 244, 246, 248, 251,\n",
       "        270, 272, 274, 275, 280, 282, 284, 285, 298, 299, 300, 301, 305, 308,\n",
       "        309, 310, 311, 312, 313, 314, 315, 317, 319, 320, 321, 322, 323, 324,\n",
       "        325, 326, 327, 332, 333, 338, 339, 344, 345, 346, 347, 351, 352, 354,\n",
       "        355, 356, 357, 358, 359, 360, 361, 362, 363, 364, 365, 366, 367, 368,\n",
       "        369, 370, 371, 372, 373, 378, 379, 384, 385, 397, 399, 401, 404, 409,\n",
       "        411, 413, 416, 453, 456, 457, 459, 465, 468, 469, 471, 493, 496, 497,\n",
       "        499, 505, 508, 509, 511], device='cuda:0')"
      ]
     },
     "execution_count": 12,
     "metadata": {},
     "output_type": "execute_result"
    }
   ],
   "source": [
    "true_indices = torch.nonzero(incl_mask).flatten()\n",
    "true_indices\n"
   ]
  },
  {
   "cell_type": "code",
   "execution_count": 5,
   "metadata": {},
   "outputs": [
    {
     "data": {
      "text/plain": [
       "torch.Size([29790])"
      ]
     },
     "execution_count": 5,
     "metadata": {},
     "output_type": "execute_result"
    }
   ],
   "source": [
    "direction[0].size()"
   ]
  },
  {
   "cell_type": "code",
   "execution_count": 6,
   "metadata": {},
   "outputs": [
    {
     "name": "stdout",
     "output_type": "stream",
     "text": [
      "Radius: 15.0 Å,\tNP size: 33.46 Å,\tEstimated atoms: 1634,\tActual atoms: 1413,\tError: 15.67%\n",
      "Radius: 10.0 Å,\tNP size: 23.88 Å,\tEstimated atoms: 594,\tActual atoms: 543,\tError: 9.37%\n",
      "Radius: 5.0 Å,\tNP size: 11.42 Å,\tEstimated atoms: 65,\tActual atoms: 69,\tError: -5.73%\n"
     ]
    }
   ],
   "source": [
    "n_atoms_unit_cell = len(unit_cell)\n",
    "for i, np_size in enumerate(nanoparticle_sizes):\n",
    "    unit_vol = unit_cell.get_volume()\n",
    "    np_vol = 4/3 * np.pi * (np_size/2)**3\n",
    "    est_atoms = n_atoms_unit_cell * np_vol / unit_vol\n",
    "    n_np_atoms = len(nanoparticle_list[i])\n",
    "    n_atoms_error = (est_atoms - n_np_atoms) / n_np_atoms\n",
    "    # Print results\n",
    "    print(f'Radius: {(np_size//2)//5*5} Å,\\tNP size: {np_size:.2f} Å,\\tEstimated atoms: {est_atoms:.0f},\\tActual atoms: {n_np_atoms},\\tError: {n_atoms_error:.2%}')"
   ]
  },
  {
   "cell_type": "code",
   "execution_count": 7,
   "metadata": {},
   "outputs": [
    {
     "data": {
      "application/vnd.jupyter.widget-view+json": {
       "model_id": "145bdbca02d14d9a81a02fe6acfa3849",
       "version_major": 2,
       "version_minor": 0
      },
      "text/plain": []
     },
     "metadata": {},
     "output_type": "display_data"
    },
    {
     "data": {
      "application/vnd.jupyter.widget-view+json": {
       "model_id": "e445e9b3d0b34216ac8da9665a74ecae",
       "version_major": 2,
       "version_minor": 0
      },
      "text/plain": [
       "HBox(children=(NGLWidget(), VBox(children=(Dropdown(description='Show', options=('All', 'Zn', 'O'), value='All…"
      ]
     },
     "execution_count": 7,
     "metadata": {},
     "output_type": "execute_result"
    }
   ],
   "source": [
    "view(nanoparticle_list[0], viewer='ngl')"
   ]
  },
  {
   "cell_type": "code",
   "execution_count": 8,
   "metadata": {},
   "outputs": [],
   "source": [
    "# write('test_np.xyz', nanoparticle_list[0])"
   ]
  }
 ],
 "metadata": {
  "kernelspec": {
   "display_name": "dataset_env",
   "language": "python",
   "name": "python3"
  },
  "language_info": {
   "codemirror_mode": {
    "name": "ipython",
    "version": 3
   },
   "file_extension": ".py",
   "mimetype": "text/x-python",
   "name": "python",
   "nbconvert_exporter": "python",
   "pygments_lexer": "ipython3",
   "version": "3.10.13"
  }
 },
 "nbformat": 4,
 "nbformat_minor": 2
}
