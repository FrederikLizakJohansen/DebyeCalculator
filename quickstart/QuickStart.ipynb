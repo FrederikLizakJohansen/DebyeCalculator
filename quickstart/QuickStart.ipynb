{
 "cells": [
  {
   "cell_type": "markdown",
   "id": "1cdddaa8",
   "metadata": {},
   "source": [
    "# DebyeCalculator - QuickStart\n",
    "\n",
    "**Authors:** Johansen & Anker et. al.\n",
    "\n",
    "**Date:** August 2023\n",
    "\n",
    "---\n",
    "The `DebyeCalculator` class is a powerful tool for calculating the scattering intensity I(Q) and pair distribution function G(r) of atomic structures using the Debye scattering equation. This class is optimized to run on GPUs, making it well-suited for large-scale simulations and nanoparticle analysis. It utilizes PyTorch to efficiently perform tensor computations and takes advantage of CUDA acceleration for enhanced speed.\n",
    "\n",
    "To begin, simply run this next cell!"
   ]
  },
  {
   "cell_type": "code",
   "execution_count": 1,
   "id": "f791e999",
   "metadata": {},
   "outputs": [
    {
     "data": {
      "application/vnd.jupyter.widget-view+json": {
       "model_id": "909ecbe9e2824857b826d7010e7728fe",
       "version_major": 2,
       "version_minor": 0
      },
      "text/plain": [
       "interactive(children=(Text(value='', description='Data Folder:', placeholder='path/to/data/folder'), Dropdown(…"
      ]
     },
     "metadata": {},
     "output_type": "display_data"
    }
   ],
   "source": [
    "from debyecalculator_interaction import interact_debye\n",
    "interact_debye()"
   ]
  },
  {
   "cell_type": "code",
   "execution_count": null,
   "id": "8abbccac",
   "metadata": {},
   "outputs": [],
   "source": []
  }
 ],
 "metadata": {
  "kernelspec": {
   "display_name": "Python 3 (ipykernel)",
   "language": "python",
   "name": "python3"
  },
  "language_info": {
   "codemirror_mode": {
    "name": "ipython",
    "version": 3
   },
   "file_extension": ".py",
   "mimetype": "text/x-python",
   "name": "python",
   "nbconvert_exporter": "python",
   "pygments_lexer": "ipython3",
   "version": "3.7.15"
  }
 },
 "nbformat": 4,
 "nbformat_minor": 5
}
