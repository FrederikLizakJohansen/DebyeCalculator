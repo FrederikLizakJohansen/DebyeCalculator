{
 "cells": [
  {
   "cell_type": "markdown",
   "id": "6fc75ce6",
   "metadata": {},
   "source": [
    "# DebyeCalculator - Interactive Mode\n",
    "\n",
    "**Authors:** Johansen & Anker et. al.\n",
    "\n",
    "**Questions:** [frjo@di.ku.dk](frjo@di.ku.dk) and [andy@chem.ku.dk](andy@chem.ku.dk)\n",
    "\n",
    "**Date:** August 2023\n",
    "\n",
    "---\n",
    "The `DebyeCalculator` class is a powerful tool for calculating the scattering intensity $I(Q)$ through the Debye scattering equation, the Total Scattering Structure Function $S(Q)$, the Reduced Total Scattering Function $F(Q)$, and the Reduced Atomic Pair Distribution Function $G(r)$.\n",
    "This class is optimized to run on GPUs, making it well-suited for large-scale simulations and nanoparticle analysis. It utilizes PyTorch to efficiently perform tensor computations and takes advantage of CUDA acceleration for enhanced speed.\n",
    "\n",
    "To begin, simply import the DebyeCalculator class and call its ``interact`` function!"
   ]
  },
  {
   "cell_type": "code",
   "execution_count": 4,
   "id": "68b4179d",
   "metadata": {},
   "outputs": [
    {
     "data": {
      "application/vnd.jupyter.widget-view+json": {
       "model_id": "c7585f8709db4c8591ad043ffeb23e06",
       "version_major": 2,
       "version_minor": 0
      },
      "text/plain": [
       "VBox(children=(Tab(children=(VBox(children=(Image(value=b'\\x89PNG\\r\\n\\x1a\\n\\x00\\x00\\x00\\rIHDR\\x00\\x00\\x01\\x1c\\…"
      ]
     },
     "metadata": {},
     "output_type": "display_data"
    }
   ],
   "source": [
    "import os\n",
    "os.chdir('../DebyeCalculator')\n",
    "from debye_calculator import DebyeCalculator\n",
    "debye_calc = DebyeCalculator()\n",
    "debye_calc.interact()"
   ]
  },
  {
   "cell_type": "markdown",
   "id": "dfff0914",
   "metadata": {},
   "source": [
    "# Cite\n",
    "If you use our code, please consider citing our paper. Thanks in advance!\n",
    "\n",
    "```\n",
    "@article{Johansen_anker2023debye,\n",
    "title={A GPU-Accelerated Open-Source Python Package for Calculating the Debye Scattering Equation: Applications in Powder Diffraction, Small-Angle-, and Total Scattering},\n",
    "author={Frederik L. Johansen, Andy S. Anker, Ulrik Friis-Jensen, Erik B. Dam, Kirsten M. Ø. Jensen, Raghavendra Selvan},\n",
    "journal={XXXX}\n",
    "year={2023}}\n",
    "```\n",
    "\n",
    "\n",
    "# LICENSE\n",
    "This project is licensed under the Apache License Version 2.0, January 2004 - see the LICENSE file at https://github.com/FrederikLizakJohansen/DebyeCalculatorGPU/blob/main/LICENSE.txt for details."
   ]
  },
  {
   "cell_type": "code",
   "execution_count": null,
   "id": "6fc512f9",
   "metadata": {},
   "outputs": [],
   "source": []
  }
 ],
 "metadata": {
  "kernelspec": {
   "display_name": "Python 3 (ipykernel)",
   "language": "python",
   "name": "python3"
  },
  "language_info": {
   "codemirror_mode": {
    "name": "ipython",
    "version": 3
   },
   "file_extension": ".py",
   "mimetype": "text/x-python",
   "name": "python",
   "nbconvert_exporter": "python",
   "pygments_lexer": "ipython3",
   "version": "3.11.4"
  }
 },
 "nbformat": 4,
 "nbformat_minor": 5
}
