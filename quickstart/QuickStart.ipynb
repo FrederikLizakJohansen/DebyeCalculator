{
 "cells": [
  {
   "cell_type": "markdown",
   "metadata": {},
   "source": [
    "# DebyeCalculator - QuickStart\n",
    "\n",
    "**Authors:** Johansen & Anker et. al.\n",
    "\n",
    "**Questions:** [frjo@di.ku.dk](frjo@di.ku.dk) and [andy@chem.ku.dk](andy@chem.ku.dk)\n",
    "\n",
    "**Date:** August 2023\n",
    "\n",
    "---\n",
    "The `DebyeCalculator` class is a powerful tool for calculating the scattering intensity I(q) through the Debye scattering equation, the Total Scattering Structure Function S(q), the Reduced Total Scattering Function F(q), and the Reduced Atomic Pair Distribution Function G(r).\n",
    "This class is optimized to run on GPUs, making it well-suited for large-scale simulations and nanoparticle analysis. It utilizes PyTorch to efficiently perform tensor computations and takes advantage of CUDA acceleration for enhanced speed.\n",
    "\n",
    "To begin, simply run this next cell!"
   ]
  },
  {
   "cell_type": "code",
   "execution_count": 1,
   "metadata": {},
   "outputs": [
    {
     "data": {
      "application/vnd.jupyter.widget-view+json": {
       "model_id": "b915e5fe6db848b09aa816ae9a79135a",
       "version_major": 2,
       "version_minor": 0
      },
      "text/plain": [
       "interactive(children=(Text(value='', description='Data Folder:', placeholder='path/to/data/folder'), Dropdown(…"
      ]
     },
     "metadata": {},
     "output_type": "display_data"
    }
   ],
   "source": [
    "from debyecalculator_interaction import interact_debye\n",
    "interact_debye()"
   ]
  },
  {
   "attachments": {},
   "cell_type": "markdown",
   "metadata": {},
   "source": [
    "# Cite\n",
    "If you use our code, please consider citing our paper. Thanks in advance!\n",
    "\n",
    "```\n",
    "@article{Johansen_anker2023debye,\n",
    "title={A GPU-Accelerated Open-Source Python Package for Rapid Calculation of the Debye Scattering Equation: Applications in Small-Angle Scattering, Powder diffraction, and Total Scattering with Pair Distribution Function Analysis},\n",
    "author={Frederik L. Johansen, Andy S. Anker, Ulrik Friis-Jensen, Erik B. Dam, Kirsten M. Ø. Jensen, Raghavendra Selvan},\n",
    "journal={XXXX}\n",
    "year={2023}}\n",
    "```\n",
    "\n",
    "\n",
    "# LICENSE\n",
    "This project is licensed under the Apache License Version 2.0, January 2004 - see the LICENSE file at https://github.com/FrederikLizakJohansen/DebyeCalculatorGPU/blob/main/LICENSE.txt for details."
   ]
  },
  {
   "cell_type": "code",
   "execution_count": null,
   "metadata": {},
   "outputs": [],
   "source": []
  }
 ],
 "metadata": {
  "kernelspec": {
   "display_name": "Python 3",
   "language": "python",
   "name": "python3"
  },
  "language_info": {
   "codemirror_mode": {
    "name": "ipython",
    "version": 3
   },
   "file_extension": ".py",
   "mimetype": "text/x-python",
   "name": "python",
   "nbconvert_exporter": "python",
   "pygments_lexer": "ipython3",
   "version": "3.7.9"
  }
 },
 "nbformat": 4,
 "nbformat_minor": 5
}
