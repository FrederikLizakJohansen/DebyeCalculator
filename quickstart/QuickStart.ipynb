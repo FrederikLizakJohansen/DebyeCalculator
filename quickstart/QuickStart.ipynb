{
 "cells": [
  {
   "cell_type": "markdown",
   "id": "6fc75ce6",
   "metadata": {},
   "source": [
    "# DebyeCalculator - QuickStart (Interactive)\n",
    "\n",
    "**Authors:** Johansen & Anker et. al.\n",
    "\n",
    "**Questions:** [frjo@di.ku.dk](frjo@di.ku.dk) and [andy@chem.ku.dk](andy@chem.ku.dk)\n",
    "\n",
    "**Date:** August 2023\n",
    "\n",
    "---\n",
    "The `DebyeCalculator` class is a powerful tool for calculating the scattering intensity I(q) through the Debye scattering equation, the Total Scattering Structure Function S(q), the Reduced Total Scattering Function F(q), and the Reduced Atomic Pair Distribution Function G(r).\n",
    "This class is optimized to run on GPUs, making it well-suited for large-scale simulations and nanoparticle analysis. It utilizes PyTorch to efficiently perform tensor computations and takes advantage of CUDA acceleration for enhanced speed.\n",
    "\n",
    "To begin, simply import the DebyeCalculator class and call its ``interact`` function!"
   ]
  },
  {
   "cell_type": "code",
   "execution_count": 2,
   "id": "5b13ed3d",
   "metadata": {
    "scrolled": false
   },
   "outputs": [
    {
     "data": {
      "application/vnd.jupyter.widget-view+json": {
       "model_id": "49724255afaa411b98aa716bda174124",
       "version_major": 2,
       "version_minor": 0
      },
      "text/plain": [
       "interactive(children=(Text(value='', description='Data Folder:', placeholder='path/to/data/folder'), Dropdown(…"
      ]
     },
     "metadata": {},
     "output_type": "display_data"
    },
    {
     "data": {
      "application/vnd.jupyter.widget-view+json": {
       "model_id": "a952e60391cb402a99f89e8b61f4b4d7",
       "version_major": 2,
       "version_minor": 0
      },
      "text/plain": [
       "Button(description='Download Data', style=ButtonStyle())"
      ]
     },
     "metadata": {},
     "output_type": "display_data"
    }
   ],
   "source": [
    "import os\n",
    "os.chdir('../DebyeCalculator')\n",
    "from debye_calculator import DebyeCalculator\n",
    "\n",
    "# Make DebyeCalculator object and call its interact function\n",
    "debye_calc = DebyeCalculator()\n",
    "debye_calc.interact()"
   ]
  },
  {
   "cell_type": "markdown",
   "id": "6a324766",
   "metadata": {},
   "source": [
    "Alternatively you can parse starting parameters to the object and parse the path of the xyz-file directly to the 'interact' function, like so:"
   ]
  },
  {
   "cell_type": "code",
   "execution_count": 7,
   "id": "9a677d88",
   "metadata": {},
   "outputs": [
    {
     "data": {
      "application/vnd.jupyter.widget-view+json": {
       "model_id": "3c51d93197ad434a92e5390571bdaab9",
       "version_major": 2,
       "version_minor": 0
      },
      "text/plain": [
       "interactive(children=(Text(value='', description='Data Folder:', disabled=True, placeholder='path/to/data/fold…"
      ]
     },
     "metadata": {},
     "output_type": "display_data"
    },
    {
     "data": {
      "application/vnd.jupyter.widget-view+json": {
       "model_id": "09ab00eee18d4966a451f825191601f7",
       "version_major": 2,
       "version_minor": 0
      },
      "text/plain": [
       "Button(description='Download Data', style=ButtonStyle())"
      ]
     },
     "metadata": {},
     "output_type": "display_data"
    }
   ],
   "source": [
    "debye_calc = DebyeCalculator(\n",
    "    qmin = 3,\n",
    "    qmax = 30,\n",
    "    qstep = 0.01,\n",
    "    rmin = 1,\n",
    "    rmax = 20,\n",
    "    radiation_type = 'neutron'\n",
    ")\n",
    "debye_calc.interact(structure_path = '../example_data/icsd_001504_cc_r6_lc_2.85_6_tetragonal.xyz')"
   ]
  },
  {
   "cell_type": "markdown",
   "id": "dfff0914",
   "metadata": {},
   "source": [
    "# Cite\n",
    "If you use our code, please consider citing our paper. Thanks in advance!\n",
    "\n",
    "```\n",
    "@article{Johansen_anker2023debye,\n",
    "title={A GPU-Accelerated Open-Source Python Package for Rapid Calculation of the Debye Scattering Equation: Applications in Small-Angle Scattering, Powder diffraction, and Total Scattering with Pair Distribution Function Analysis},\n",
    "author={Frederik L. Johansen, Andy S. Anker, Ulrik Friis-Jensen, Erik B. Dam, Kirsten M. Ø. Jensen, Raghavendra Selvan},\n",
    "journal={XXXX}\n",
    "year={2023}}\n",
    "```\n",
    "\n",
    "\n",
    "# LICENSE\n",
    "This project is licensed under the Apache License Version 2.0, January 2004 - see the LICENSE file at https://github.com/FrederikLizakJohansen/DebyeCalculatorGPU/blob/main/LICENSE.txt for details."
   ]
  },
  {
   "cell_type": "code",
   "execution_count": null,
   "id": "67951f45",
   "metadata": {},
   "outputs": [],
   "source": []
  }
 ],
 "metadata": {
  "kernelspec": {
   "display_name": "Python 3 (ipykernel)",
   "language": "python",
   "name": "python3"
  },
  "language_info": {
   "codemirror_mode": {
    "name": "ipython",
    "version": 3
   },
   "file_extension": ".py",
   "mimetype": "text/x-python",
   "name": "python",
   "nbconvert_exporter": "python",
   "pygments_lexer": "ipython3",
   "version": "3.7.15"
  }
 },
 "nbformat": 4,
 "nbformat_minor": 5
}
